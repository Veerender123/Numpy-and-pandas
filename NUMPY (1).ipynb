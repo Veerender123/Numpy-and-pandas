{
 "cells": [
  {
   "cell_type": "markdown",
   "id": "9263306a",
   "metadata": {},
   "source": [
    "# NUMPY"
   ]
  },
  {
   "cell_type": "code",
   "execution_count": 1,
   "id": "68fedb89",
   "metadata": {},
   "outputs": [],
   "source": [
    "import numpy as np"
   ]
  },
  {
   "cell_type": "code",
   "execution_count": 28,
   "id": "670365bc",
   "metadata": {},
   "outputs": [
    {
     "name": "stdout",
     "output_type": "stream",
     "text": [
      "[1 2 3 4]\n",
      "[3 4 5]\n",
      "['a' 'b' 'c']\n"
     ]
    }
   ],
   "source": [
    "a=[1,2,3,4]#list\n",
    "b=(3,4,5)#tuple\n",
    "c=('a','b','c')#string tuple\n",
    "print(np.array(a))\n",
    "print(np.array(b))\n",
    "print(np.array(c))\n"
   ]
  },
  {
   "cell_type": "code",
   "execution_count": 29,
   "id": "f251e12a",
   "metadata": {},
   "outputs": [
    {
     "name": "stdout",
     "output_type": "stream",
     "text": [
      "[ 1.  2.  3.  4.  5.  6.  7.  8.  9. 10.]\n",
      "class:  ndarray\n",
      "shape:  (10,)\n",
      "strides:  (8,)\n",
      "itemsize:  8\n",
      "aligned:  True\n",
      "contiguous:  True\n",
      "fortran:  True\n",
      "data pointer: 0x232f354d070\n",
      "byteorder:  little\n",
      "byteswap:  False\n",
      "type: float64\n"
     ]
    }
   ],
   "source": [
    "c=np.linspace(1,10,10)#we will get 10 values between 1 to 100 it divides values equally(start,end,no.of values needed)\n",
    "print(c)\n",
    "np.info(c)"
   ]
  },
  {
   "cell_type": "code",
   "execution_count": 32,
   "id": "a4d6d624",
   "metadata": {},
   "outputs": [
    {
     "name": "stdout",
     "output_type": "stream",
     "text": [
      "[1]\n",
      "class:  ndarray\n",
      "shape:  (1,)\n",
      "strides:  (4,)\n",
      "itemsize:  4\n",
      "aligned:  True\n",
      "contiguous:  True\n",
      "fortran:  True\n",
      "data pointer: 0x232f387da50\n",
      "byteorder:  little\n",
      "byteswap:  False\n",
      "type: int32\n"
     ]
    }
   ],
   "source": [
    "c=np.arange(1,10,10)#it will have fixed step size(start,end,step)\n",
    "print(c)\n",
    "np.info(c)"
   ]
  },
  {
   "cell_type": "code",
   "execution_count": 36,
   "id": "1437f115",
   "metadata": {},
   "outputs": [
    {
     "name": "stdout",
     "output_type": "stream",
     "text": [
      "[[[0. 0. 0. 0.]\n",
      "  [0. 0. 0. 0.]\n",
      "  [0. 0. 0. 0.]]\n",
      "\n",
      " [[0. 0. 0. 0.]\n",
      "  [0. 0. 0. 0.]\n",
      "  [0. 0. 0. 0.]]\n",
      "\n",
      " [[0. 0. 0. 0.]\n",
      "  [0. 0. 0. 0.]\n",
      "  [0. 0. 0. 0.]]]\n",
      "[1. 1. 1.]\n",
      "[[1. 1. 1.]\n",
      " [1. 1. 1.]]\n"
     ]
    }
   ],
   "source": [
    "d=np.zeros((3,3,4))#3-dimensional\n",
    "k=np.ones(3)#1-d\n",
    "l=np.ones((2,3))#2-d\n",
    "print(d)\n",
    "print(k)\n",
    "print(l)"
   ]
  },
  {
   "cell_type": "code",
   "execution_count": 70,
   "id": "e9a7536d",
   "metadata": {},
   "outputs": [
    {
     "name": "stdout",
     "output_type": "stream",
     "text": [
      "8\n",
      "[1 3 4 5]\n",
      "int32\n",
      "4\n",
      "[[200   2   8]\n",
      " [  4   5   6]]\n",
      "2\n",
      "(2, 3)\n",
      "6\n",
      "<class 'numpy.ndarray'>\n",
      "[[200   2   8]\n",
      " [  4   5   6]]\n"
     ]
    }
   ],
   "source": [
    "k=np.array([[2,2,8],[4,5,6]])#2-D\n",
    "p=np.array(8)#0-d scalar\n",
    "print(p)\n",
    "t=np.array([1,3,4,5])#1-d\n",
    "print(t)\n",
    "\n",
    "print(k.dtype)#data type of array\n",
    "print(k.itemsize)#size of integer\n",
    "print(np.copy(k))#copy of array\n",
    "print(np.ndim(k))#dimension\n",
    "print(np.shape(k))##(rows,columns)\n",
    "print(np.size(k))\n",
    "print(type(k))\n",
    "print(k)"
   ]
  },
  {
   "cell_type": "code",
   "execution_count": 86,
   "id": "9deb8e11",
   "metadata": {},
   "outputs": [
    {
     "name": "stdout",
     "output_type": "stream",
     "text": [
      "[[16 16 64]\n",
      " [32 40 48]]\n",
      "[[18 10 64]\n",
      " [32 25 36]]\n",
      "6\n"
     ]
    }
   ],
   "source": [
    "k=np.array([[2,2,8],[4,5,6]])\n",
    "p=np.array(8)#1d*2d\n",
    "print(np.multiply(k,p))\n",
    "t=np.array([[9,5,8],[8,5,6]])\n",
    "print(np.multiply(k,t))#2d*2d\n",
    "\n",
    "\n"
   ]
  },
  {
   "cell_type": "markdown",
   "id": "faa447f9",
   "metadata": {},
   "source": [
    "# Slicing"
   ]
  },
  {
   "cell_type": "code",
   "execution_count": 83,
   "id": "a7dbb9e5",
   "metadata": {},
   "outputs": [
    {
     "name": "stdout",
     "output_type": "stream",
     "text": [
      "[3 4 5]\n",
      "[1 3 4]\n",
      "[1 5]\n"
     ]
    }
   ],
   "source": [
    "t=np.array([1,3,4,5])#1-d\n",
    "print(t[1:])\n",
    "print(t[:3])\n",
    "print(t[::3])#t[start:end:step] here start =0 end =length of array,step=3 for every 3rd element is printed"
   ]
  },
  {
   "cell_type": "code",
   "execution_count": 85,
   "id": "70301e31",
   "metadata": {},
   "outputs": [
    {
     "name": "stdout",
     "output_type": "stream",
     "text": [
      "3\n",
      "5\n"
     ]
    }
   ],
   "source": [
    "print(t[1])#indexing\n",
    "print(t[-1])\n"
   ]
  },
  {
   "cell_type": "code",
   "execution_count": 89,
   "id": "aa94e63c",
   "metadata": {},
   "outputs": [
    {
     "data": {
      "text/plain": [
       "6"
      ]
     },
     "execution_count": 89,
     "metadata": {},
     "output_type": "execute_result"
    }
   ],
   "source": [
    "k=np.array([[9,5,8],[8,5,6]])\n",
    "k[1][2]\n"
   ]
  },
  {
   "cell_type": "code",
   "execution_count": 90,
   "id": "984cc003",
   "metadata": {},
   "outputs": [
    {
     "name": "stdout",
     "output_type": "stream",
     "text": [
      "[['neg' 'neg' 'pos']\n",
      " ['pos' 'neg' 'pos']]\n"
     ]
    }
   ],
   "source": [
    "k=np.array([[-9,-5,0],[8,-5,6]])\n",
    "t=np.where(k<0,\"neg\",\"pos\")#if condition statifies then neg else pos\n",
    "print(t)"
   ]
  },
  {
   "cell_type": "code",
   "execution_count": 96,
   "id": "ecbde618",
   "metadata": {},
   "outputs": [
    {
     "name": "stdout",
     "output_type": "stream",
     "text": [
      "[[1. 2. 4.]\n",
      " [5. 9. 4.]]\n",
      "[[1.2 2.  3.7]\n",
      " [5.  9.  3.9]]\n",
      "[[ 0.  0.  0.]\n",
      " [ 0. 10.  0.]]\n",
      "[[1. 2. 3.]\n",
      " [5. 8. 3.]]\n",
      "[[2. 2. 4.]\n",
      " [5. 9. 4.]]\n"
     ]
    }
   ],
   "source": [
    "v=np.array([[1.23,2,3.68],[5,8.999,3.89]])\n",
    "print(np.around(v))\n",
    "print(np.around(v,decimals =1))\n",
    "print(np.around(v,decimals =-1))#if negative then it round up the value left to decimal\n",
    "print(np.floor(v))#rounds to smallest\n",
    "print(np.ceil(v))#rounds to next largest if it is decimal"
   ]
  },
  {
   "cell_type": "code",
   "execution_count": 105,
   "id": "e5c99be3",
   "metadata": {},
   "outputs": [
    {
     "name": "stdout",
     "output_type": "stream",
     "text": [
      "33\n",
      "[17 10  6]\n",
      "[14 19]\n",
      "[14 19]\n"
     ]
    }
   ],
   "source": [
    "k=np.array([[9,5,0],[8,5,6]])\n",
    "print(np.sum(k))\n",
    "print(np.sum(k,axis=0))#add of rows\n",
    "print(np.sum(k,axis=1))#add of columns\n",
    "print(np.sum(k,axis=-1))#add from last to first"
   ]
  },
  {
   "cell_type": "code",
   "execution_count": 109,
   "id": "59a76009",
   "metadata": {},
   "outputs": [
    {
     "name": "stdout",
     "output_type": "stream",
     "text": [
      "5.5\n",
      "[8.5 5.  3. ]\n",
      "[4.66666667 6.33333333]\n",
      "5.5\n",
      "[8.5 5.  3. ]\n",
      "[5. 6.]\n",
      "2.8722813232690143\n",
      "[0.5 0.  3. ]\n",
      "[3.68178701 1.24721913]\n"
     ]
    }
   ],
   "source": [
    "print(np.mean(k))\n",
    "\n",
    "print(np.mean(k,axis=0))\n",
    "print(np.mean(k,axis=1))\n",
    "\n",
    "print(np.median(k))\n",
    "print(np.median(k,axis=0))\n",
    "print(np.median(k,axis=1))\n",
    "\n",
    "\n",
    "print(np.std(k))\n",
    "print(np.std(k,axis=0))\n",
    "print(np.std(k,axis=1))"
   ]
  },
  {
   "cell_type": "code",
   "execution_count": null,
   "id": "46163bc2",
   "metadata": {},
   "outputs": [],
   "source": []
  }
 ],
 "metadata": {
  "kernelspec": {
   "display_name": "Python 3",
   "language": "python",
   "name": "python3"
  },
  "language_info": {
   "codemirror_mode": {
    "name": "ipython",
    "version": 3
   },
   "file_extension": ".py",
   "mimetype": "text/x-python",
   "name": "python",
   "nbconvert_exporter": "python",
   "pygments_lexer": "ipython3",
   "version": "3.8.8"
  }
 },
 "nbformat": 4,
 "nbformat_minor": 5
}
